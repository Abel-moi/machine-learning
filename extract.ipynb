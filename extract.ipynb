{
 "cells": [
  {
   "cell_type": "code",
   "execution_count": null,
   "metadata": {},
   "outputs": [],
   "source": [
    "import xmltodict\n",
    "from os import listdir, remove\n",
    "\n",
    "path = './dataset/train/'"
   ]
  },
  {
   "cell_type": "code",
   "execution_count": null,
   "metadata": {},
   "outputs": [],
   "source": [
    "\n",
    "for filename in [f for f in listdir(path) if 'xml' in f]:\n",
    "    with open(path+filename) as f:\n",
    "        data = f.read()\n",
    "        ln = xmltodict.parse(data)\n",
    "        bndbox = ln['annotation']['object']['bndbox']\n",
    "        image_width = int(ln['annotation']['size']['width'])\n",
    "        image_height = int(ln['annotation']['size']['height'])\n",
    "\n",
    "        width = int(bndbox['xmax']) - int(bndbox['xmin'])\n",
    "        height = int(bndbox['ymax'])-int(bndbox['ymin'])\n",
    "        x = height / 2\n",
    "        y = width / 2\n",
    "\n",
    "        text = f\"0 {x / image_width} {y / image_height} {width / image_width} { height / image_height}\"\n",
    "\n",
    "        with open(path+filename.replace('xml', 'txt'), 'w') as f:\n",
    "            f.write(text)\n",
    "\n",
    "    remove(path+filename)\n"
   ]
  }
 ],
 "metadata": {
  "kernelspec": {
   "display_name": "Python 3",
   "language": "python",
   "name": "python3"
  },
  "language_info": {
   "name": "python",
   "version": "3.8.7"
  },
  "orig_nbformat": 4,
  "vscode": {
   "interpreter": {
    "hash": "aee8b7b246df8f9039afb4144a1f6fd8d2ca17a180786b69acc140d282b71a49"
   }
  }
 },
 "nbformat": 4,
 "nbformat_minor": 2
}
